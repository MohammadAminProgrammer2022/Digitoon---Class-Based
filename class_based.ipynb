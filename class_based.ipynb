{
 "cells": [
  {
   "cell_type": "markdown",
   "metadata": {},
   "source": [
    "### فراخوانی کتابخانه های مورد نیاز"
   ]
  },
  {
   "cell_type": "code",
   "execution_count": 1,
   "metadata": {},
   "outputs": [],
   "source": [
    "from datetime import datetime\n",
    "import matplotlib.pyplot as plt\n",
    "\n",
    "# connecting to sql database\n",
    "import mysql.connector\n",
    "\n",
    "# to determin how much we're accomplished\n",
    "from tqdm import tqdm\n",
    "\n",
    "import numpy as np\n",
    "import pandas as pd"
   ]
  },
  {
   "cell_type": "markdown",
   "metadata": {},
   "source": [
    "# DATA INITIALIZATION"
   ]
  },
  {
   "cell_type": "code",
   "execution_count": 2,
   "metadata": {},
   "outputs": [],
   "source": [
    "class DataProcessor:\n",
    "    '''\n",
    "    This class is responssible to process .txt data. Things such as:\n",
    "        1. converting to dataframe\n",
    "        2. removing null and missed values\n",
    "        3. ...\n",
    "    '''\n",
    "    \n",
    "    def __init__(self, file_name):\n",
    "\n",
    "        self.file_name = file_name\n",
    "        self.loader()\n",
    "    \n",
    "    \n",
    "    def file_reader(self):\n",
    "        '''reading and showing input file'''\n",
    "        with open(self.file_name, 'r') as file_:\n",
    "            data = file_.read()\n",
    "            # print(data)\n",
    "    \n",
    "\n",
    "    def to_df(self):\n",
    "        '''convert to dataframe'''\n",
    "        self.df = pd.read_csv(self.file_name, \n",
    "                              sep=\" \", header=None)\n",
    "\n",
    "    def dirty_df(self):\n",
    "        return self.df\n",
    "    \n",
    "    \n",
    "    def request_method_url_seprator(self):\n",
    "        '''saving values from request method and url into lists'''\n",
    "        col = 5\n",
    "        self.requests = []\n",
    "        self.urls = []\n",
    "        \n",
    "        for da in range(len(self.df)):\n",
    "            # seperating data into request and url\n",
    "            data = self.df[col][da].split(' /') # here ---> ['DELETE', 'index.html?product_id=585&user_id=218 HTTP/1.1']\n",
    "            # url\n",
    "            self.urls.append('/' + data[1])\n",
    "            # request\n",
    "            self.requests.append(data[0])\n",
    "    \n",
    "    \n",
    "    @staticmethod\n",
    "    def timestamp_initializer(df, col1, col2):\n",
    "        '''\n",
    "        this function combine columns 3 and 4 which are timestamp and UTCOFFSET and returns a list\n",
    "        like so:\n",
    "            input date   ===> [25/Jun/2024:00:06:22\t+0000] | HERE timestamp and UTC OFFSET are seperated!\n",
    "            data         ===> '25/Jun/2024:00:06:22 +0000'\n",
    "            output data  ===> '2024-06-24 07:04:22+00:00'  | which its data type is datetime.datetime\n",
    "        output data is datetime + UTCOFFSET and then it's ready\n",
    "        to be stored in the SQL database.  \n",
    "        '''\n",
    "        result = []\n",
    "        for d in range(len(df)):\n",
    "            date = df[col1][d][1:] + ' ' + df[col2][d][:-1]\n",
    "            converted_to_datetime = datetime.strptime(date, \"%d/%b/%Y:%H:%M:%S %z\")\n",
    "            result.append(converted_to_datetime)\n",
    "        return result\n",
    "\n",
    "    \n",
    "    def give_timestamp(self):\n",
    "        self.timestamp = self.timestamp_initializer(self.df, 3, 4)\n",
    "    \n",
    "    \n",
    "    @staticmethod\n",
    "    def df2list(df, col):\n",
    "        data_list = []\n",
    "        for n in range(len(df)):\n",
    "            data_list.append(df[col][n])\n",
    "        return data_list\n",
    "    \n",
    "    def col_initilizer(self):\n",
    "        self.status_code = self.df2list(self.df, 6)\n",
    "        self.response_size = self.df2list(self.df, 7)\n",
    "        self.ip_address = self.df2list(self.df, 0)\n",
    "        \n",
    "\n",
    "    def create_dataset(self):\n",
    "        self.dataset = {\n",
    "            'IP address': self.ip_address,\n",
    "            'timestamp': self.timestamp,\n",
    "            'request method': self.requests,\n",
    "            'URL': self.urls,\n",
    "            'status code': self.status_code,\n",
    "            'response size (bytes)': self.response_size\n",
    "        }\n",
    "\n",
    "        self.new_df = pd.DataFrame(self.dataset)\n",
    "        print(self.new_df.head())\n",
    "        \n",
    "    \n",
    "    #################################### CLEAN SECTION ##################################\n",
    "    # cleaning null values\n",
    "    def null_cleaner(self):\n",
    "        print('#################################################')\n",
    "        print(\"Here you can see number of null values in each column!\")\n",
    "        print(f'------------->\\n{self.new_df.isnull().sum()}')\n",
    "        print('\\ncleaning null values ...\\n')\n",
    "        # removing null values\n",
    "        self.new_df.dropna(inplace=True)\n",
    "        print(\"Here you can see number of null values after cleaning them in each column!\")\n",
    "        print(f'------------->\\n{self.new_df.isnull().sum()}')\n",
    "        print('#################################################')\n",
    "        print()\n",
    "    \n",
    "    \n",
    "    '''\n",
    "    NOTE: Here I found something like '-' in response seize column\n",
    "          which is very unsuall!\n",
    "    '''\n",
    "    def clean_hyphen(self):\n",
    "        # finding index of all - values\n",
    "        index_missed_values = self.new_df[self.new_df['response size (bytes)'] == '-'].index\n",
    "        len(index_missed_values) # number of - values\n",
    "        # drop them from dataframe\n",
    "        self.new_df.drop(index_missed_values, inplace=True)\n",
    "    \n",
    "    \n",
    "    def loader(self):\n",
    "        self.file_reader()\n",
    "        self.to_df()\n",
    "        self.request_method_url_seprator()\n",
    "        self.give_timestamp()\n",
    "        self.col_initilizer()\n",
    "        \n",
    "        # creating new dataset\n",
    "        self.create_dataset()\n",
    "        self.null_cleaner()\n",
    "        self.clean_hyphen()\n",
    "        \n",
    "        print('#################################################')\n",
    "        print('Congradulations!\\nDataset is ready and cleaned!')\n",
    "        print('#################################################')\n",
    "    \n",
    "    def give_df(self):\n",
    "        return self.new_df"
   ]
  },
  {
   "cell_type": "code",
   "execution_count": 3,
   "metadata": {},
   "outputs": [
    {
     "name": "stdout",
     "output_type": "stream",
     "text": [
      "       IP address                 timestamp request method  \\\n",
      "0  74.240.191.221 2024-06-25 00:06:22+00:00         DELETE   \n",
      "1     15.89.35.67 2024-06-24 04:43:22+00:00            PUT   \n",
      "2   158.20.204.46 2024-06-21 14:54:22+00:00            GET   \n",
      "3   158.20.204.46 2024-06-21 14:54:22+00:00            GET   \n",
      "4  238.189.173.32 2024-06-21 21:33:22+00:00            GET   \n",
      "\n",
      "                                                 URL  status code  \\\n",
      "0    /index.html?product_id=585&user_id=218 HTTP/1.1          200   \n",
      "1  /index.html?session_id=def456&session_id=mno34...          301   \n",
      "2           /contact.html?session_id=def456 HTTP/1.1          200   \n",
      "3           /contact.html?session_id=def456 HTTP/1.1          200   \n",
      "4  /signup?session_id=abc123&session_id=ghi789 HT...          500   \n",
      "\n",
      "  response size (bytes)  \n",
      "0                  1974  \n",
      "1                  4349  \n",
      "2                  4060  \n",
      "3                  4060  \n",
      "4                  2661  \n",
      "#################################################\n",
      "Here you can see number of null values in each column!\n",
      "------------->\n",
      "IP address               57\n",
      "timestamp                 0\n",
      "request method            0\n",
      "URL                       0\n",
      "status code               0\n",
      "response size (bytes)     0\n",
      "dtype: int64\n",
      "\n",
      "cleaning null values ...\n",
      "\n",
      "Here you can see number of null values after cleaning them in each column!\n",
      "------------->\n",
      "IP address               0\n",
      "timestamp                0\n",
      "request method           0\n",
      "URL                      0\n",
      "status code              0\n",
      "response size (bytes)    0\n",
      "dtype: int64\n",
      "#################################################\n",
      "\n",
      "#################################################\n",
      "Congradulations!\n",
      "Dataset is ready and cleaned!\n",
      "#################################################\n"
     ]
    }
   ],
   "source": [
    "dp = DataProcessor('nginx_logs - Copy.txt')"
   ]
  },
  {
   "cell_type": "code",
   "execution_count": 4,
   "metadata": {},
   "outputs": [
    {
     "data": {
      "text/html": [
       "<div>\n",
       "<style scoped>\n",
       "    .dataframe tbody tr th:only-of-type {\n",
       "        vertical-align: middle;\n",
       "    }\n",
       "\n",
       "    .dataframe tbody tr th {\n",
       "        vertical-align: top;\n",
       "    }\n",
       "\n",
       "    .dataframe thead th {\n",
       "        text-align: right;\n",
       "    }\n",
       "</style>\n",
       "<table border=\"1\" class=\"dataframe\">\n",
       "  <thead>\n",
       "    <tr style=\"text-align: right;\">\n",
       "      <th></th>\n",
       "      <th>0</th>\n",
       "      <th>1</th>\n",
       "      <th>2</th>\n",
       "      <th>3</th>\n",
       "      <th>4</th>\n",
       "      <th>5</th>\n",
       "      <th>6</th>\n",
       "      <th>7</th>\n",
       "    </tr>\n",
       "  </thead>\n",
       "  <tbody>\n",
       "    <tr>\n",
       "      <th>0</th>\n",
       "      <td>74.240.191.221</td>\n",
       "      <td>-</td>\n",
       "      <td>-</td>\n",
       "      <td>[25/Jun/2024:00:06:22</td>\n",
       "      <td>+0000]</td>\n",
       "      <td>DELETE /index.html?product_id=585&amp;user_id=218 ...</td>\n",
       "      <td>200</td>\n",
       "      <td>1974</td>\n",
       "    </tr>\n",
       "    <tr>\n",
       "      <th>1</th>\n",
       "      <td>15.89.35.67</td>\n",
       "      <td>-</td>\n",
       "      <td>-</td>\n",
       "      <td>[24/Jun/2024:04:43:22</td>\n",
       "      <td>+0000]</td>\n",
       "      <td>PUT /index.html?session_id=def456&amp;session_id=m...</td>\n",
       "      <td>301</td>\n",
       "      <td>4349</td>\n",
       "    </tr>\n",
       "    <tr>\n",
       "      <th>2</th>\n",
       "      <td>158.20.204.46</td>\n",
       "      <td>-</td>\n",
       "      <td>-</td>\n",
       "      <td>[21/Jun/2024:14:54:22</td>\n",
       "      <td>+0000]</td>\n",
       "      <td>GET /contact.html?session_id=def456 HTTP/1.1</td>\n",
       "      <td>200</td>\n",
       "      <td>4060</td>\n",
       "    </tr>\n",
       "    <tr>\n",
       "      <th>3</th>\n",
       "      <td>158.20.204.46</td>\n",
       "      <td>-</td>\n",
       "      <td>-</td>\n",
       "      <td>[21/Jun/2024:14:54:22</td>\n",
       "      <td>+0000]</td>\n",
       "      <td>GET /contact.html?session_id=def456 HTTP/1.1</td>\n",
       "      <td>200</td>\n",
       "      <td>4060</td>\n",
       "    </tr>\n",
       "    <tr>\n",
       "      <th>4</th>\n",
       "      <td>238.189.173.32</td>\n",
       "      <td>-</td>\n",
       "      <td>-</td>\n",
       "      <td>[21/Jun/2024:21:33:22</td>\n",
       "      <td>+0000]</td>\n",
       "      <td>GET /signup?session_id=abc123&amp;session_id=ghi78...</td>\n",
       "      <td>500</td>\n",
       "      <td>2661</td>\n",
       "    </tr>\n",
       "  </tbody>\n",
       "</table>\n",
       "</div>"
      ],
      "text/plain": [
       "                0  1  2                      3       4  \\\n",
       "0  74.240.191.221  -  -  [25/Jun/2024:00:06:22  +0000]   \n",
       "1     15.89.35.67  -  -  [24/Jun/2024:04:43:22  +0000]   \n",
       "2   158.20.204.46  -  -  [21/Jun/2024:14:54:22  +0000]   \n",
       "3   158.20.204.46  -  -  [21/Jun/2024:14:54:22  +0000]   \n",
       "4  238.189.173.32  -  -  [21/Jun/2024:21:33:22  +0000]   \n",
       "\n",
       "                                                   5    6     7  \n",
       "0  DELETE /index.html?product_id=585&user_id=218 ...  200  1974  \n",
       "1  PUT /index.html?session_id=def456&session_id=m...  301  4349  \n",
       "2       GET /contact.html?session_id=def456 HTTP/1.1  200  4060  \n",
       "3       GET /contact.html?session_id=def456 HTTP/1.1  200  4060  \n",
       "4  GET /signup?session_id=abc123&session_id=ghi78...  500  2661  "
      ]
     },
     "execution_count": 4,
     "metadata": {},
     "output_type": "execute_result"
    }
   ],
   "source": [
    "# dirty df\n",
    "dirty_df = dp.dirty_df()\n",
    "dirty_df.head()"
   ]
  },
  {
   "cell_type": "code",
   "execution_count": 76,
   "metadata": {},
   "outputs": [
    {
     "data": {
      "text/html": [
       "<div>\n",
       "<style scoped>\n",
       "    .dataframe tbody tr th:only-of-type {\n",
       "        vertical-align: middle;\n",
       "    }\n",
       "\n",
       "    .dataframe tbody tr th {\n",
       "        vertical-align: top;\n",
       "    }\n",
       "\n",
       "    .dataframe thead th {\n",
       "        text-align: right;\n",
       "    }\n",
       "</style>\n",
       "<table border=\"1\" class=\"dataframe\">\n",
       "  <thead>\n",
       "    <tr style=\"text-align: right;\">\n",
       "      <th></th>\n",
       "      <th>IP address</th>\n",
       "      <th>timestamp</th>\n",
       "      <th>request method</th>\n",
       "      <th>URL</th>\n",
       "      <th>status code</th>\n",
       "      <th>response size (bytes)</th>\n",
       "    </tr>\n",
       "  </thead>\n",
       "  <tbody>\n",
       "    <tr>\n",
       "      <th>0</th>\n",
       "      <td>74.240.191.221</td>\n",
       "      <td>2024-06-25 00:06:22+00:00</td>\n",
       "      <td>DELETE</td>\n",
       "      <td>/index.html?product_id=585&amp;user_id=218 HTTP/1.1</td>\n",
       "      <td>200</td>\n",
       "      <td>1974</td>\n",
       "    </tr>\n",
       "    <tr>\n",
       "      <th>1</th>\n",
       "      <td>15.89.35.67</td>\n",
       "      <td>2024-06-24 04:43:22+00:00</td>\n",
       "      <td>PUT</td>\n",
       "      <td>/index.html?session_id=def456&amp;session_id=mno34...</td>\n",
       "      <td>301</td>\n",
       "      <td>4349</td>\n",
       "    </tr>\n",
       "    <tr>\n",
       "      <th>2</th>\n",
       "      <td>158.20.204.46</td>\n",
       "      <td>2024-06-21 14:54:22+00:00</td>\n",
       "      <td>GET</td>\n",
       "      <td>/contact.html?session_id=def456 HTTP/1.1</td>\n",
       "      <td>200</td>\n",
       "      <td>4060</td>\n",
       "    </tr>\n",
       "    <tr>\n",
       "      <th>3</th>\n",
       "      <td>158.20.204.46</td>\n",
       "      <td>2024-06-21 14:54:22+00:00</td>\n",
       "      <td>GET</td>\n",
       "      <td>/contact.html?session_id=def456 HTTP/1.1</td>\n",
       "      <td>200</td>\n",
       "      <td>4060</td>\n",
       "    </tr>\n",
       "    <tr>\n",
       "      <th>4</th>\n",
       "      <td>238.189.173.32</td>\n",
       "      <td>2024-06-21 21:33:22+00:00</td>\n",
       "      <td>GET</td>\n",
       "      <td>/signup?session_id=abc123&amp;session_id=ghi789 HT...</td>\n",
       "      <td>500</td>\n",
       "      <td>2661</td>\n",
       "    </tr>\n",
       "  </tbody>\n",
       "</table>\n",
       "</div>"
      ],
      "text/plain": [
       "       IP address                 timestamp request method  \\\n",
       "0  74.240.191.221 2024-06-25 00:06:22+00:00         DELETE   \n",
       "1     15.89.35.67 2024-06-24 04:43:22+00:00            PUT   \n",
       "2   158.20.204.46 2024-06-21 14:54:22+00:00            GET   \n",
       "3   158.20.204.46 2024-06-21 14:54:22+00:00            GET   \n",
       "4  238.189.173.32 2024-06-21 21:33:22+00:00            GET   \n",
       "\n",
       "                                                 URL  status code  \\\n",
       "0    /index.html?product_id=585&user_id=218 HTTP/1.1          200   \n",
       "1  /index.html?session_id=def456&session_id=mno34...          301   \n",
       "2           /contact.html?session_id=def456 HTTP/1.1          200   \n",
       "3           /contact.html?session_id=def456 HTTP/1.1          200   \n",
       "4  /signup?session_id=abc123&session_id=ghi789 HT...          500   \n",
       "\n",
       "  response size (bytes)  \n",
       "0                  1974  \n",
       "1                  4349  \n",
       "2                  4060  \n",
       "3                  4060  \n",
       "4                  2661  "
      ]
     },
     "execution_count": 76,
     "metadata": {},
     "output_type": "execute_result"
    }
   ],
   "source": [
    "df = dp.give_df()\n",
    "df.head()"
   ]
  },
  {
   "cell_type": "markdown",
   "metadata": {},
   "source": [
    "<hr>"
   ]
  },
  {
   "cell_type": "markdown",
   "metadata": {},
   "source": [
    "# DATABASE"
   ]
  },
  {
   "cell_type": "code",
   "execution_count": 83,
   "metadata": {},
   "outputs": [],
   "source": [
    "class DataBase:\n",
    "    \n",
    "    def __init__(self, host, user, password, database=None):\n",
    "        self.host = host\n",
    "        self.user = user\n",
    "        self.password = password\n",
    "        self.database = database\n",
    "        self.connect()\n",
    "\n",
    "    \n",
    "    def connect(self):\n",
    "        try:\n",
    "            self.db = mysql.connector.connect(\n",
    "                host = self.host,\n",
    "                user = self.user,\n",
    "                password = self.password,\n",
    "            )\n",
    "            self.cursor = self.db.cursor()\n",
    "            print('connected to database!')\n",
    "        except Exception as e:\n",
    "            print(e)\n",
    "    \n",
    "    \n",
    "    def query_executer(self, sql, val=None):\n",
    "        try:\n",
    "            self.cursor.execute(sql, val)\n",
    "            try:\n",
    "                data = self.cursor.fetchall()\n",
    "                if len(data) != 0:\n",
    "                    return data\n",
    "            except Exception as e:\n",
    "                print(e)\n",
    "        except Exception as e:\n",
    "            print(e)\n",
    "    \n",
    "    \n",
    "    def commit(self):\n",
    "        try:\n",
    "            self.db.commit()\n",
    "        except Exception as e:\n",
    "            print(e)\n",
    "    \n",
    "    # def show_databases(self):\n",
    "    #     sql = 'SHOW DATABASES;'\n",
    "    #     return self.query_executer(sql)\n",
    "    \n",
    "    \n",
    "    # def create_database(self, db_name):\n",
    "    #     self.db_name = db_name\n",
    "    #     sql = f'CREATE DATABASE IF NOT EXISTS {self.db_name};'\n",
    "    #     self.query_executer(sql)\n",
    "    #     print(f'database {self.db_name} created successfully!')\n",
    "    \n",
    "    \n",
    "    \n",
    "    # def create_table(self, sql):\n",
    "    #     self.query_executer(sql)\n",
    "    #     print('table created successfully!')"
   ]
  },
  {
   "cell_type": "code",
   "execution_count": 84,
   "metadata": {},
   "outputs": [
    {
     "name": "stdout",
     "output_type": "stream",
     "text": [
      "connected to database!\n"
     ]
    }
   ],
   "source": [
    "db = DataBase('localhost', 'admin', '1234')"
   ]
  },
  {
   "cell_type": "code",
   "execution_count": 85,
   "metadata": {},
   "outputs": [
    {
     "data": {
      "text/plain": [
       "[('information_schema',),\n",
       " ('mysql',),\n",
       " ('performance_schema',),\n",
       " ('sakila',),\n",
       " ('sys',),\n",
       " ('world',)]"
      ]
     },
     "execution_count": 85,
     "metadata": {},
     "output_type": "execute_result"
    }
   ],
   "source": [
    "# show databases\n",
    "db.query_executer('show databases;')"
   ]
  },
  {
   "cell_type": "code",
   "execution_count": 86,
   "metadata": {},
   "outputs": [],
   "source": [
    "db.query_executer('create database if not exists test;')"
   ]
  },
  {
   "cell_type": "code",
   "execution_count": 87,
   "metadata": {},
   "outputs": [
    {
     "data": {
      "text/plain": [
       "[('information_schema',),\n",
       " ('mysql',),\n",
       " ('performance_schema',),\n",
       " ('sakila',),\n",
       " ('sys',),\n",
       " ('test',),\n",
       " ('world',)]"
      ]
     },
     "execution_count": 87,
     "metadata": {},
     "output_type": "execute_result"
    }
   ],
   "source": [
    "db.query_executer('show databases;')"
   ]
  },
  {
   "cell_type": "code",
   "execution_count": 88,
   "metadata": {},
   "outputs": [],
   "source": [
    "# create table\n",
    "\n",
    "sql = \"\"\"\n",
    "            CREATE TABLE IF NOT EXISTS Ngnix(\n",
    "                id INT AUTO_INCREMENT,\n",
    "                IP_address VARCHAR(255),\n",
    "                timestamp TIMESTAMP,\n",
    "                request_method VARCHAR(255),\n",
    "                url VARCHAR(255),\n",
    "                status_code INT NOT NULL,\n",
    "                response_size INT NOT NULL,\n",
    "                PRIMARY KEY (id)\n",
    "            );\n",
    "    \"\"\"\n",
    "    \n",
    "db.query_executer('use test')\n",
    "db.query_executer(sql)"
   ]
  },
  {
   "cell_type": "code",
   "execution_count": 89,
   "metadata": {},
   "outputs": [
    {
     "data": {
      "text/plain": [
       "[('ngnix',)]"
      ]
     },
     "execution_count": 89,
     "metadata": {},
     "output_type": "execute_result"
    }
   ],
   "source": [
    "db.query_executer('show tables')"
   ]
  },
  {
   "cell_type": "code",
   "execution_count": 90,
   "metadata": {},
   "outputs": [
    {
     "name": "stderr",
     "output_type": "stream",
     "text": [
      "100%|██████████| 1014/1014 [00:01<00:00, 609.43it/s]\n"
     ]
    }
   ],
   "source": [
    "for n in tqdm(range(len(df))):\n",
    "    try:\n",
    "        data = df.iloc[n, :]\n",
    "        sql =  '''\n",
    "            INSERT INTO Ngnix (IP_address, timestamp, request_method, url, status_code, response_size)\n",
    "            VALUES (%s, %s, %s, %s, %s, %s);\n",
    "        '''\n",
    "        val = (data['IP address'], data['timestamp'], data['request method'], data['URL'], int(data['status code']), data['response size (bytes)'])\n",
    "        db.query_executer(sql, val)\n",
    "        db.commit()\n",
    "        # print('data added!')\n",
    "    except Exception as e:\n",
    "        print()\n",
    "        print(data)\n",
    "        print()\n",
    "        print(e)"
   ]
  },
  {
   "cell_type": "code",
   "execution_count": 91,
   "metadata": {},
   "outputs": [],
   "source": [
    "db_data = db.query_executer('select * from ngnix;')"
   ]
  },
  {
   "cell_type": "code",
   "execution_count": 92,
   "metadata": {},
   "outputs": [
    {
     "data": {
      "text/plain": [
       "(2,\n",
       " '15.89.35.67',\n",
       " datetime.datetime(2024, 6, 24, 4, 43, 22),\n",
       " 'PUT',\n",
       " '/index.html?session_id=def456&session_id=mno345&user_id=709 HTTP/1.1',\n",
       " 301,\n",
       " 4349)"
      ]
     },
     "execution_count": 92,
     "metadata": {},
     "output_type": "execute_result"
    }
   ],
   "source": [
    "db_data[1]"
   ]
  },
  {
   "cell_type": "markdown",
   "metadata": {},
   "source": [
    "<!DOCTYPE html>\n",
    "<html>\n",
    "    <body>\n",
    "\n",
    "<h1>Stored Data in MySQL | database name is test</h1>\n",
    "\n",
    "<img src=\"sql_img.png\" alt=\"Girl in a jacket\" width=\"1610\" height=\"690\">\n",
    "\n",
    "</body>\n",
    "</html>"
   ]
  },
  {
   "cell_type": "markdown",
   "metadata": {},
   "source": [
    "<hr>"
   ]
  },
  {
   "cell_type": "markdown",
   "metadata": {},
   "source": [
    "## Data Visualization | Data Is Loaded From the Database"
   ]
  },
  {
   "cell_type": "markdown",
   "metadata": {},
   "source": [
    "#### different types of request methods in PI and BAR graph"
   ]
  },
  {
   "cell_type": "code",
   "execution_count": 93,
   "metadata": {},
   "outputs": [
    {
     "data": {
      "text/plain": [
       "[('DELETE',), ('PUT',)]"
      ]
     },
     "execution_count": 93,
     "metadata": {},
     "output_type": "execute_result"
    }
   ],
   "source": [
    "sql = \"SELECT request_method FROM Ngnix;\"\n",
    "sql_reqest_methods = db.query_executer(sql)\n",
    "sql_reqest_methods[:2]"
   ]
  },
  {
   "cell_type": "code",
   "execution_count": 94,
   "metadata": {},
   "outputs": [],
   "source": [
    "# using method query_executer from Database class in function below\n",
    "def sql_executer_with_condition(sql_command, condition=None):\n",
    "    try:\n",
    "        result = db.query_executer(sql_command, condition)\n",
    "        if len(result) != 0:\n",
    "            return result\n",
    "    except Exception as e:\n",
    "        print(e)"
   ]
  },
  {
   "cell_type": "code",
   "execution_count": 95,
   "metadata": {},
   "outputs": [],
   "source": [
    "# working only with non duplicated values\n",
    "sql_reqest_methods = list(set(sql_reqest_methods))"
   ]
  },
  {
   "cell_type": "code",
   "execution_count": 96,
   "metadata": {},
   "outputs": [
    {
     "data": {
      "text/plain": [
       "['GET', 'DELETE', 'POST', 'PUT']"
      ]
     },
     "execution_count": 96,
     "metadata": {},
     "output_type": "execute_result"
    }
   ],
   "source": [
    "rq_methods = []\n",
    "for da in sql_reqest_methods:\n",
    "    rq_methods.append(da[0])\n",
    "rq_methods"
   ]
  },
  {
   "cell_type": "code",
   "execution_count": 97,
   "metadata": {},
   "outputs": [
    {
     "data": {
      "text/plain": [
       "[268, 228, 246, 272]"
      ]
     },
     "execution_count": 97,
     "metadata": {},
     "output_type": "execute_result"
    }
   ],
   "source": [
    "sql_delete = sql_executer_with_condition('SELECT COUNT(*) FROM Ngnix WHERE request_method = %s', ['DELETE'])\n",
    "sql_post = sql_executer_with_condition('SELECT COUNT(*) FROM Ngnix WHERE request_method = %s', ['POST'])\n",
    "sql_get = sql_executer_with_condition('SELECT COUNT(*) FROM Ngnix WHERE request_method = %s', ['GET'])\n",
    "sql_put = sql_executer_with_condition('SELECT COUNT(*) FROM Ngnix WHERE request_method = %s', ['PUT'])\n",
    "num_rq_method = [sql_delete[0][0], sql_post[0][0], sql_get[0][0], sql_put[0][0]]\n",
    "num_rq_method"
   ]
  },
  {
   "cell_type": "code",
   "execution_count": 98,
   "metadata": {},
   "outputs": [
    {
     "data": {
      "image/png": "[encoded data removed]",
      "text/plain": [
       "<Figure size 1500x700 with 2 Axes>"
      ]
     },
     "metadata": {},
     "output_type": "display_data"
    }
   ],
   "source": [
    "fig = plt.figure(figsize=(15, 7))\n",
    "\n",
    "plt.subplot(1, 2, 1)\n",
    "plt.title('All Types of Request Methods | PIE Diagram')\n",
    "plt.pie(num_rq_method, labels=rq_methods)\n",
    "\n",
    "plt.subplot(1, 2, 2)\n",
    "plt.bar(rq_methods, num_rq_method, width=0.5)\n",
    "plt.ylabel('Number of Requests')\n",
    "plt.xlabel('Types of Requests')\n",
    "plt.title('All Types of Request Methods | BAr Diagram')\n",
    " \n",
    "# show plot\n",
    "plt.show()"
   ]
  },
  {
   "cell_type": "markdown",
   "metadata": {},
   "source": [
    "#### --------------------------------------------------------------------------------------------------------------------"
   ]
  },
  {
   "cell_type": "code",
   "execution_count": 100,
   "metadata": {},
   "outputs": [
    {
     "data": {
      "text/plain": [
       "[(datetime.datetime(2024, 6, 25, 0, 6, 22),),\n",
       " (datetime.datetime(2024, 6, 24, 4, 43, 22),),\n",
       " (datetime.datetime(2024, 6, 21, 14, 54, 22),),\n",
       " (datetime.datetime(2024, 6, 21, 14, 54, 22),),\n",
       " (datetime.datetime(2024, 6, 21, 21, 33, 22),),\n",
       " (datetime.datetime(2024, 6, 26, 9, 3, 22),)]"
      ]
     },
     "execution_count": 100,
     "metadata": {},
     "output_type": "execute_result"
    }
   ],
   "source": [
    "sql_timestamp = db.query_executer('select timestamp from ngnix;')\n",
    "sql_timestamp[:6]"
   ]
  },
  {
   "cell_type": "code",
   "execution_count": 101,
   "metadata": {},
   "outputs": [
    {
     "data": {
      "text/plain": [
       "[<matplotlib.lines.Line2D at 0x27a9aaac410>]"
      ]
     },
     "execution_count": 101,
     "metadata": {},
     "output_type": "execute_result"
    },
    {
     "data": {
      "image/png": "[encoded data removed]",
      "text/plain": [
       "<Figure size 640x480 with 1 Axes>"
      ]
     },
     "metadata": {},
     "output_type": "display_data"
    }
   ],
   "source": [
    "plt.plot(sql_timestamp)"
   ]
  },
  {
   "cell_type": "code",
   "execution_count": 109,
   "metadata": {},
   "outputs": [
    {
     "data": {
      "text/plain": [
       "(1014, 1)"
      ]
     },
     "execution_count": 109,
     "metadata": {},
     "output_type": "execute_result"
    }
   ],
   "source": [
    "sql_timestamp = np.array(sql_timestamp)\n",
    "sql_timestamp.shape"
   ]
  },
  {
   "cell_type": "code",
   "execution_count": 111,
   "metadata": {},
   "outputs": [
    {
     "data": {
      "text/plain": [
       "[(1974,), (4349,), (4060,), (4060,), (2661,), (629,)]"
      ]
     },
     "execution_count": 111,
     "metadata": {},
     "output_type": "execute_result"
    }
   ],
   "source": [
    "sql_response_size = db.query_executer('select response_size from ngnix;')\n",
    "sql_response_size[:6]"
   ]
  },
  {
   "cell_type": "code",
   "execution_count": 113,
   "metadata": {},
   "outputs": [],
   "source": [
    "temp = []\n",
    "\n",
    "for i in sql_response_size:\n",
    "    temp.append(i[0])\n",
    "\n",
    "sql_response_size = temp"
   ]
  },
  {
   "cell_type": "code",
   "execution_count": 115,
   "metadata": {},
   "outputs": [
    {
     "data": {
      "text/plain": [
       "(1014, 1)"
      ]
     },
     "execution_count": 115,
     "metadata": {},
     "output_type": "execute_result"
    }
   ],
   "source": [
    "sql_response_size = np.array(sql_response_size)\n",
    "sql_response_size = sql_response_size.reshape(sql_response_size.shape[0], 1)\n",
    "sql_response_size.shape"
   ]
  },
  {
   "cell_type": "code",
   "execution_count": 126,
   "metadata": {},
   "outputs": [
    {
     "data": {
      "text/plain": [
       "Text(0.5, 1.0, 'Response Size | Histogram')"
      ]
     },
     "execution_count": 126,
     "metadata": {},
     "output_type": "execute_result"
    },
    {
     "data": {
      "image/png": "[encoded data removed]",
      "text/plain": [
       "<Figure size 640x480 with 1 Axes>"
      ]
     },
     "metadata": {},
     "output_type": "display_data"
    }
   ],
   "source": [
    "plt.hist(sql_response_size)\n",
    "plt.title('Response Size | Histogram')"
   ]
  },
  {
   "cell_type": "markdown",
   "metadata": {},
   "source": [
    "#### --------------------------------------------------------------------------------------------------------------------"
   ]
  },
  {
   "cell_type": "code",
   "execution_count": 124,
   "metadata": {},
   "outputs": [
    {
     "data": {
      "text/plain": [
       "[(200,), (301,), (200,), (200,), (500,)]"
      ]
     },
     "execution_count": 124,
     "metadata": {},
     "output_type": "execute_result"
    }
   ],
   "source": [
    "sql_status_code = db.query_executer('select status_code from ngnix;')\n",
    "sql_status_code[:5]"
   ]
  },
  {
   "cell_type": "code",
   "execution_count": 125,
   "metadata": {},
   "outputs": [],
   "source": [
    "temp = []\n",
    "\n",
    "for i in sql_status_code:\n",
    "    temp.append(i[0])\n",
    "\n",
    "sql_status_code = temp"
   ]
  },
  {
   "cell_type": "code",
   "execution_count": 127,
   "metadata": {},
   "outputs": [
    {
     "data": {
      "text/plain": [
       "Text(0.5, 1.0, 'Status Code | Histogram')"
      ]
     },
     "execution_count": 127,
     "metadata": {},
     "output_type": "execute_result"
    },
    {
     "data": {
      "image/png": "[encoded data removed]",
      "text/plain": [
       "<Figure size 640x480 with 1 Axes>"
      ]
     },
     "metadata": {},
     "output_type": "display_data"
    }
   ],
   "source": [
    "plt.hist(sql_status_code)\n",
    "plt.title('Status Code | Histogram')"
   ]
  },
  {
   "cell_type": "markdown",
   "metadata": {},
   "source": [
    "#### --------------------------------------------------------------------------------------------------------------------"
   ]
  },
  {
   "cell_type": "markdown",
   "metadata": {},
   "source": [
    "## MySQL to CSV and EXCEL Files"
   ]
  },
  {
   "cell_type": "code",
   "execution_count": 129,
   "metadata": {},
   "outputs": [
    {
     "name": "stderr",
     "output_type": "stream",
     "text": [
      "C:\\Users\\MTK22\\AppData\\Local\\Temp\\ipykernel_6740\\784449390.py:1: UserWarning: pandas only supports SQLAlchemy connectable (engine/connection) or database string URI or sqlite3 DBAPI2 connection. Other DBAPI2 objects are not tested. Please consider using SQLAlchemy.\n",
      "  sql_2_df = pd.read_sql_query('select * from ngnix;', db.db)\n"
     ]
    }
   ],
   "source": [
    "sql_2_df = pd.read_sql_query('select * from ngnix;', db.db)\n",
    "sql_2_df.to_csv('slq_test_db.csv', index=False)\n",
    "sql_2_df.to_excel('slq_test_db_excel.xlsx', index=False)"
   ]
  },
  {
   "cell_type": "code",
   "execution_count": null,
   "metadata": {},
   "outputs": [],
   "source": []
  }
 ],
 "metadata": {
  "kernelspec": {
   "display_name": "Python 3",
   "language": "python",
   "name": "python3"
  },
  "language_info": {
   "codemirror_mode": {
    "name": "ipython",
    "version": 3
   },
   "file_extension": ".py",
   "mimetype": "text/x-python",
   "name": "python",
   "nbconvert_exporter": "python",
   "pygments_lexer": "ipython3",
   "version": "3.12.1"
  }
 },
 "nbformat": 4,
 "nbformat_minor": 2
}
